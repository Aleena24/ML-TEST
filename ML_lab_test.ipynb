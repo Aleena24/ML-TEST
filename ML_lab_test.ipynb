{
  "nbformat": 4,
  "nbformat_minor": 0,
  "metadata": {
    "colab": {
      "provenance": [],
      "authorship_tag": "ABX9TyOhD621l9QIVDAQcYQMNS1D",
      "include_colab_link": true
    },
    "kernelspec": {
      "name": "python3",
      "display_name": "Python 3"
    },
    "language_info": {
      "name": "python"
    }
  },
  "cells": [
    {
      "cell_type": "markdown",
      "metadata": {
        "id": "view-in-github",
        "colab_type": "text"
      },
      "source": [
        "<a href=\"https://colab.research.google.com/github/Aleena24/ML-TEST/blob/main/ML_lab_test.ipynb\" target=\"_parent\"><img src=\"https://colab.research.google.com/assets/colab-badge.svg\" alt=\"Open In Colab\"/></a>"
      ]
    },
    {
      "cell_type": "code",
      "execution_count": null,
      "metadata": {
        "id": "WIJ3tjGGhoP3"
      },
      "outputs": [],
      "source": [
        "import pandas as pd\n",
        "import numpy as np\n",
        "import matplotlib.pyplot as plt\n",
        "from sklearn.preprocessing import OneHotEncoder\n",
        "from sklearn.preprocessing import MinMaxScaler"
      ]
    },
    {
      "cell_type": "markdown",
      "source": [
        "Dataset structure"
      ],
      "metadata": {
        "id": "bonI49Iyj51r"
      }
    },
    {
      "cell_type": "code",
      "source": [
        "dc= pd.read_csv('/content/2015.csv')\n",
        "dc.head()"
      ],
      "metadata": {
        "colab": {
          "base_uri": "https://localhost:8080/",
          "height": 327
        },
        "id": "Pwd2xKHfh593",
        "outputId": "552e9b65-76ca-43d3-d6b0-9f38a70c95e8"
      },
      "execution_count": null,
      "outputs": [
        {
          "output_type": "execute_result",
          "data": {
            "text/plain": [
              "       Country          Region  Happiness Rank  Happiness Score  \\\n",
              "0  Switzerland  Western Europe               1            7.587   \n",
              "1      Iceland  Western Europe               2            7.561   \n",
              "2      Denmark  Western Europe               3            7.527   \n",
              "3       Norway  Western Europe               4            7.522   \n",
              "4       Canada   North America               5            7.427   \n",
              "\n",
              "   Standard Error  Economy (GDP per Capita)   Family  \\\n",
              "0         0.03411                   1.39651  1.34951   \n",
              "1         0.04884                   1.30232  1.40223   \n",
              "2         0.03328                   1.32548  1.36058   \n",
              "3         0.03880                   1.45900  1.33095   \n",
              "4         0.03553                   1.32629  1.32261   \n",
              "\n",
              "   Health (Life Expectancy)  Freedom  Trust (Government Corruption)  \\\n",
              "0                   0.94143  0.66557                        0.41978   \n",
              "1                   0.94784  0.62877                        0.14145   \n",
              "2                   0.87464  0.64938                        0.48357   \n",
              "3                   0.88521  0.66973                        0.36503   \n",
              "4                   0.90563  0.63297                        0.32957   \n",
              "\n",
              "   Generosity  Dystopia Residual  \n",
              "0     0.29678            2.51738  \n",
              "1     0.43630            2.70201  \n",
              "2     0.34139            2.49204  \n",
              "3     0.34699            2.46531  \n",
              "4     0.45811            2.45176  "
            ],
            "text/html": [
              "\n",
              "  <div id=\"df-7023475e-0546-4017-b9ae-0da27e892f71\" class=\"colab-df-container\">\n",
              "    <div>\n",
              "<style scoped>\n",
              "    .dataframe tbody tr th:only-of-type {\n",
              "        vertical-align: middle;\n",
              "    }\n",
              "\n",
              "    .dataframe tbody tr th {\n",
              "        vertical-align: top;\n",
              "    }\n",
              "\n",
              "    .dataframe thead th {\n",
              "        text-align: right;\n",
              "    }\n",
              "</style>\n",
              "<table border=\"1\" class=\"dataframe\">\n",
              "  <thead>\n",
              "    <tr style=\"text-align: right;\">\n",
              "      <th></th>\n",
              "      <th>Country</th>\n",
              "      <th>Region</th>\n",
              "      <th>Happiness Rank</th>\n",
              "      <th>Happiness Score</th>\n",
              "      <th>Standard Error</th>\n",
              "      <th>Economy (GDP per Capita)</th>\n",
              "      <th>Family</th>\n",
              "      <th>Health (Life Expectancy)</th>\n",
              "      <th>Freedom</th>\n",
              "      <th>Trust (Government Corruption)</th>\n",
              "      <th>Generosity</th>\n",
              "      <th>Dystopia Residual</th>\n",
              "    </tr>\n",
              "  </thead>\n",
              "  <tbody>\n",
              "    <tr>\n",
              "      <th>0</th>\n",
              "      <td>Switzerland</td>\n",
              "      <td>Western Europe</td>\n",
              "      <td>1</td>\n",
              "      <td>7.587</td>\n",
              "      <td>0.03411</td>\n",
              "      <td>1.39651</td>\n",
              "      <td>1.34951</td>\n",
              "      <td>0.94143</td>\n",
              "      <td>0.66557</td>\n",
              "      <td>0.41978</td>\n",
              "      <td>0.29678</td>\n",
              "      <td>2.51738</td>\n",
              "    </tr>\n",
              "    <tr>\n",
              "      <th>1</th>\n",
              "      <td>Iceland</td>\n",
              "      <td>Western Europe</td>\n",
              "      <td>2</td>\n",
              "      <td>7.561</td>\n",
              "      <td>0.04884</td>\n",
              "      <td>1.30232</td>\n",
              "      <td>1.40223</td>\n",
              "      <td>0.94784</td>\n",
              "      <td>0.62877</td>\n",
              "      <td>0.14145</td>\n",
              "      <td>0.43630</td>\n",
              "      <td>2.70201</td>\n",
              "    </tr>\n",
              "    <tr>\n",
              "      <th>2</th>\n",
              "      <td>Denmark</td>\n",
              "      <td>Western Europe</td>\n",
              "      <td>3</td>\n",
              "      <td>7.527</td>\n",
              "      <td>0.03328</td>\n",
              "      <td>1.32548</td>\n",
              "      <td>1.36058</td>\n",
              "      <td>0.87464</td>\n",
              "      <td>0.64938</td>\n",
              "      <td>0.48357</td>\n",
              "      <td>0.34139</td>\n",
              "      <td>2.49204</td>\n",
              "    </tr>\n",
              "    <tr>\n",
              "      <th>3</th>\n",
              "      <td>Norway</td>\n",
              "      <td>Western Europe</td>\n",
              "      <td>4</td>\n",
              "      <td>7.522</td>\n",
              "      <td>0.03880</td>\n",
              "      <td>1.45900</td>\n",
              "      <td>1.33095</td>\n",
              "      <td>0.88521</td>\n",
              "      <td>0.66973</td>\n",
              "      <td>0.36503</td>\n",
              "      <td>0.34699</td>\n",
              "      <td>2.46531</td>\n",
              "    </tr>\n",
              "    <tr>\n",
              "      <th>4</th>\n",
              "      <td>Canada</td>\n",
              "      <td>North America</td>\n",
              "      <td>5</td>\n",
              "      <td>7.427</td>\n",
              "      <td>0.03553</td>\n",
              "      <td>1.32629</td>\n",
              "      <td>1.32261</td>\n",
              "      <td>0.90563</td>\n",
              "      <td>0.63297</td>\n",
              "      <td>0.32957</td>\n",
              "      <td>0.45811</td>\n",
              "      <td>2.45176</td>\n",
              "    </tr>\n",
              "  </tbody>\n",
              "</table>\n",
              "</div>\n",
              "    <div class=\"colab-df-buttons\">\n",
              "\n",
              "  <div class=\"colab-df-container\">\n",
              "    <button class=\"colab-df-convert\" onclick=\"convertToInteractive('df-7023475e-0546-4017-b9ae-0da27e892f71')\"\n",
              "            title=\"Convert this dataframe to an interactive table.\"\n",
              "            style=\"display:none;\">\n",
              "\n",
              "  <svg xmlns=\"http://www.w3.org/2000/svg\" height=\"24px\" viewBox=\"0 -960 960 960\">\n",
              "    <path d=\"M120-120v-720h720v720H120Zm60-500h600v-160H180v160Zm220 220h160v-160H400v160Zm0 220h160v-160H400v160ZM180-400h160v-160H180v160Zm440 0h160v-160H620v160ZM180-180h160v-160H180v160Zm440 0h160v-160H620v160Z\"/>\n",
              "  </svg>\n",
              "    </button>\n",
              "\n",
              "  <style>\n",
              "    .colab-df-container {\n",
              "      display:flex;\n",
              "      gap: 12px;\n",
              "    }\n",
              "\n",
              "    .colab-df-convert {\n",
              "      background-color: #E8F0FE;\n",
              "      border: none;\n",
              "      border-radius: 50%;\n",
              "      cursor: pointer;\n",
              "      display: none;\n",
              "      fill: #1967D2;\n",
              "      height: 32px;\n",
              "      padding: 0 0 0 0;\n",
              "      width: 32px;\n",
              "    }\n",
              "\n",
              "    .colab-df-convert:hover {\n",
              "      background-color: #E2EBFA;\n",
              "      box-shadow: 0px 1px 2px rgba(60, 64, 67, 0.3), 0px 1px 3px 1px rgba(60, 64, 67, 0.15);\n",
              "      fill: #174EA6;\n",
              "    }\n",
              "\n",
              "    .colab-df-buttons div {\n",
              "      margin-bottom: 4px;\n",
              "    }\n",
              "\n",
              "    [theme=dark] .colab-df-convert {\n",
              "      background-color: #3B4455;\n",
              "      fill: #D2E3FC;\n",
              "    }\n",
              "\n",
              "    [theme=dark] .colab-df-convert:hover {\n",
              "      background-color: #434B5C;\n",
              "      box-shadow: 0px 1px 3px 1px rgba(0, 0, 0, 0.15);\n",
              "      filter: drop-shadow(0px 1px 2px rgba(0, 0, 0, 0.3));\n",
              "      fill: #FFFFFF;\n",
              "    }\n",
              "  </style>\n",
              "\n",
              "    <script>\n",
              "      const buttonEl =\n",
              "        document.querySelector('#df-7023475e-0546-4017-b9ae-0da27e892f71 button.colab-df-convert');\n",
              "      buttonEl.style.display =\n",
              "        google.colab.kernel.accessAllowed ? 'block' : 'none';\n",
              "\n",
              "      async function convertToInteractive(key) {\n",
              "        const element = document.querySelector('#df-7023475e-0546-4017-b9ae-0da27e892f71');\n",
              "        const dataTable =\n",
              "          await google.colab.kernel.invokeFunction('convertToInteractive',\n",
              "                                                    [key], {});\n",
              "        if (!dataTable) return;\n",
              "\n",
              "        const docLinkHtml = 'Like what you see? Visit the ' +\n",
              "          '<a target=\"_blank\" href=https://colab.research.google.com/notebooks/data_table.ipynb>data table notebook</a>'\n",
              "          + ' to learn more about interactive tables.';\n",
              "        element.innerHTML = '';\n",
              "        dataTable['output_type'] = 'display_data';\n",
              "        await google.colab.output.renderOutput(dataTable, element);\n",
              "        const docLink = document.createElement('div');\n",
              "        docLink.innerHTML = docLinkHtml;\n",
              "        element.appendChild(docLink);\n",
              "      }\n",
              "    </script>\n",
              "  </div>\n",
              "\n",
              "\n",
              "<div id=\"df-3e45b241-8cec-4585-902d-a5cef7039f21\">\n",
              "  <button class=\"colab-df-quickchart\" onclick=\"quickchart('df-3e45b241-8cec-4585-902d-a5cef7039f21')\"\n",
              "            title=\"Suggest charts.\"\n",
              "            style=\"display:none;\">\n",
              "\n",
              "<svg xmlns=\"http://www.w3.org/2000/svg\" height=\"24px\"viewBox=\"0 0 24 24\"\n",
              "     width=\"24px\">\n",
              "    <g>\n",
              "        <path d=\"M19 3H5c-1.1 0-2 .9-2 2v14c0 1.1.9 2 2 2h14c1.1 0 2-.9 2-2V5c0-1.1-.9-2-2-2zM9 17H7v-7h2v7zm4 0h-2V7h2v10zm4 0h-2v-4h2v4z\"/>\n",
              "    </g>\n",
              "</svg>\n",
              "  </button>\n",
              "\n",
              "<style>\n",
              "  .colab-df-quickchart {\n",
              "    background-color: #E8F0FE;\n",
              "    border: none;\n",
              "    border-radius: 50%;\n",
              "    cursor: pointer;\n",
              "    display: none;\n",
              "    fill: #1967D2;\n",
              "    height: 32px;\n",
              "    padding: 0 0 0 0;\n",
              "    width: 32px;\n",
              "  }\n",
              "\n",
              "  .colab-df-quickchart:hover {\n",
              "    background-color: #E2EBFA;\n",
              "    box-shadow: 0px 1px 2px rgba(60, 64, 67, 0.3), 0px 1px 3px 1px rgba(60, 64, 67, 0.15);\n",
              "    fill: #174EA6;\n",
              "  }\n",
              "\n",
              "  [theme=dark] .colab-df-quickchart {\n",
              "    background-color: #3B4455;\n",
              "    fill: #D2E3FC;\n",
              "  }\n",
              "\n",
              "  [theme=dark] .colab-df-quickchart:hover {\n",
              "    background-color: #434B5C;\n",
              "    box-shadow: 0px 1px 3px 1px rgba(0, 0, 0, 0.15);\n",
              "    filter: drop-shadow(0px 1px 2px rgba(0, 0, 0, 0.3));\n",
              "    fill: #FFFFFF;\n",
              "  }\n",
              "</style>\n",
              "\n",
              "  <script>\n",
              "    async function quickchart(key) {\n",
              "      const charts = await google.colab.kernel.invokeFunction(\n",
              "          'suggestCharts', [key], {});\n",
              "    }\n",
              "    (() => {\n",
              "      let quickchartButtonEl =\n",
              "        document.querySelector('#df-3e45b241-8cec-4585-902d-a5cef7039f21 button');\n",
              "      quickchartButtonEl.style.display =\n",
              "        google.colab.kernel.accessAllowed ? 'block' : 'none';\n",
              "    })();\n",
              "  </script>\n",
              "</div>\n",
              "    </div>\n",
              "  </div>\n"
            ]
          },
          "metadata": {},
          "execution_count": 15
        }
      ]
    },
    {
      "cell_type": "markdown",
      "source": [
        "Missing values"
      ],
      "metadata": {
        "id": "V3fQy-1kj2Mm"
      }
    },
    {
      "cell_type": "code",
      "source": [
        "print(dc.isnull().sum())"
      ],
      "metadata": {
        "colab": {
          "base_uri": "https://localhost:8080/"
        },
        "id": "G4KpZFdGjJ7F",
        "outputId": "860eb050-af7c-46ae-a620-f89c0907c3b7"
      },
      "execution_count": null,
      "outputs": [
        {
          "output_type": "stream",
          "name": "stdout",
          "text": [
            "Country                          0\n",
            "Region                           0\n",
            "Happiness Rank                   0\n",
            "Happiness Score                  0\n",
            "Standard Error                   0\n",
            "Economy (GDP per Capita)         0\n",
            "Family                           0\n",
            "Health (Life Expectancy)         0\n",
            "Freedom                          0\n",
            "Trust (Government Corruption)    0\n",
            "Generosity                       0\n",
            "Dystopia Residual                0\n",
            "dtype: int64\n"
          ]
        }
      ]
    },
    {
      "cell_type": "markdown",
      "source": [
        "Binning process"
      ],
      "metadata": {
        "id": "z-GfSAE9j_EW"
      }
    },
    {
      "cell_type": "code",
      "source": [
        "dc['happiness_score'] = pd.qcut(dc['Happiness Score'],q=[0, .3, .5, .7],labels=['Low Happiness','Medium Happiness','High Happiness'])\n",
        "print(dc)"
      ],
      "metadata": {
        "colab": {
          "base_uri": "https://localhost:8080/"
        },
        "id": "Z_zkzaZ7p_tp",
        "outputId": "06a6de9d-dc78-44a7-d9eb-ac92e21dd6fa"
      },
      "execution_count": null,
      "outputs": [
        {
          "output_type": "stream",
          "name": "stdout",
          "text": [
            "         Country                           Region  Happiness Rank  \\\n",
            "0    Switzerland                   Western Europe               1   \n",
            "1        Iceland                   Western Europe               2   \n",
            "2        Denmark                   Western Europe               3   \n",
            "3         Norway                   Western Europe               4   \n",
            "4         Canada                    North America               5   \n",
            "..           ...                              ...             ...   \n",
            "153       Rwanda               Sub-Saharan Africa             154   \n",
            "154        Benin               Sub-Saharan Africa             155   \n",
            "155        Syria  Middle East and Northern Africa             156   \n",
            "156      Burundi               Sub-Saharan Africa             157   \n",
            "157         Togo               Sub-Saharan Africa             158   \n",
            "\n",
            "     Happiness Score  Standard Error  Economy (GDP per Capita)   Family  \\\n",
            "0              7.587         0.03411                   1.39651  1.34951   \n",
            "1              7.561         0.04884                   1.30232  1.40223   \n",
            "2              7.527         0.03328                   1.32548  1.36058   \n",
            "3              7.522         0.03880                   1.45900  1.33095   \n",
            "4              7.427         0.03553                   1.32629  1.32261   \n",
            "..               ...             ...                       ...      ...   \n",
            "153            3.465         0.03464                   0.22208  0.77370   \n",
            "154            3.340         0.03656                   0.28665  0.35386   \n",
            "155            3.006         0.05015                   0.66320  0.47489   \n",
            "156            2.905         0.08658                   0.01530  0.41587   \n",
            "157            2.839         0.06727                   0.20868  0.13995   \n",
            "\n",
            "     Health (Life Expectancy)  Freedom  Trust (Government Corruption)  \\\n",
            "0                     0.94143  0.66557                        0.41978   \n",
            "1                     0.94784  0.62877                        0.14145   \n",
            "2                     0.87464  0.64938                        0.48357   \n",
            "3                     0.88521  0.66973                        0.36503   \n",
            "4                     0.90563  0.63297                        0.32957   \n",
            "..                        ...      ...                            ...   \n",
            "153                   0.42864  0.59201                        0.55191   \n",
            "154                   0.31910  0.48450                        0.08010   \n",
            "155                   0.72193  0.15684                        0.18906   \n",
            "156                   0.22396  0.11850                        0.10062   \n",
            "157                   0.28443  0.36453                        0.10731   \n",
            "\n",
            "     Generosity  Dystopia Residual    happy_score happienesshappiness _score  \\\n",
            "0       0.29678            2.51738            NaN                        NaN   \n",
            "1       0.43630            2.70201            NaN                        NaN   \n",
            "2       0.34139            2.49204            NaN                        NaN   \n",
            "3       0.34699            2.46531            NaN                        NaN   \n",
            "4       0.45811            2.45176            NaN                        NaN   \n",
            "..          ...                ...            ...                        ...   \n",
            "153     0.22628            0.67042  Low Happiness              Low Happiness   \n",
            "154     0.18260            1.63328  Low Happiness              Low Happiness   \n",
            "155     0.47179            0.32858  Low Happiness              Low Happiness   \n",
            "156     0.19727            1.83302  Low Happiness              Low Happiness   \n",
            "157     0.16681            1.56726  Low Happiness              Low Happiness   \n",
            "\n",
            "    happieness_score happiness_score  \n",
            "0                NaN             NaN  \n",
            "1                NaN             NaN  \n",
            "2                NaN             NaN  \n",
            "3                NaN             NaN  \n",
            "4                NaN             NaN  \n",
            "..               ...             ...  \n",
            "153    Low Happiness   Low Happiness  \n",
            "154    Low Happiness   Low Happiness  \n",
            "155    Low Happiness   Low Happiness  \n",
            "156    Low Happiness   Low Happiness  \n",
            "157    Low Happiness   Low Happiness  \n",
            "\n",
            "[158 rows x 16 columns]\n"
          ]
        }
      ]
    },
    {
      "cell_type": "markdown",
      "source": [
        "Graphical representation"
      ],
      "metadata": {
        "id": "HivBMEacuHDG"
      }
    },
    {
      "cell_type": "code",
      "source": [
        "#Bar Graph\n",
        "dc['happiness_score'].value_counts(sort=False).plot(kind='bar')"
      ],
      "metadata": {
        "colab": {
          "base_uri": "https://localhost:8080/",
          "height": 567
        },
        "id": "-_oqMcBVn7t8",
        "outputId": "88b55a4e-d795-444a-9705-588907120dcb"
      },
      "execution_count": null,
      "outputs": [
        {
          "output_type": "execute_result",
          "data": {
            "text/plain": [
              "<Axes: >"
            ]
          },
          "metadata": {},
          "execution_count": 54
        },
        {
          "output_type": "display_data",
          "data": {
            "text/plain": [
              "<Figure size 640x480 with 1 Axes>"
            ],
            "image/png": "[encoded data removed]"
          },
          "metadata": {}
        }
      ]
    },
    {
      "cell_type": "markdown",
      "source": [
        "One Hot Encoding"
      ],
      "metadata": {
        "id": "oxzSDns2nJZj"
      }
    },
    {
      "cell_type": "code",
      "source": [
        "encoder = OneHotEncoder()\n",
        "\n",
        "encoder.fit(dc['Region'])\n",
        "\n",
        "encoded_data = encoder.transform(dc['Region'])\n",
        "\n",
        "print(encoded_data)\n"
      ],
      "metadata": {
        "id": "x0rgBo1bnOku"
      },
      "execution_count": null,
      "outputs": []
    },
    {
      "cell_type": "markdown",
      "source": [
        "Normalization"
      ],
      "metadata": {
        "id": "THaLgWlMnsqN"
      }
    },
    {
      "cell_type": "code",
      "source": [
        "#Min-Max\n",
        "scaler = MinMaxScaler()\n",
        "dc_scaled = scaler.fit_transform(dc)\n",
        "\n",
        "dc = dc.apply(lambda x: (x - x.mean()) / x.std())"
      ],
      "metadata": {
        "id": "PJJvVhRD2T5v"
      },
      "execution_count": null,
      "outputs": []
    },
    {
      "cell_type": "markdown",
      "source": [
        "Chi-square test"
      ],
      "metadata": {
        "id": "936ya6S6nwR9"
      }
    },
    {
      "cell_type": "code",
      "source": [
        "# Create a contingency table of gender and customer loyalty\n",
        "contingency_table = pd.crosstab(dc[\"Region\"], dc[\"Happiness Rank\"])\n",
        "\n",
        "# Calculate the chi-square statistic and p-value\n",
        "chi_square_statistic, p_value, dc_value, expected_values = stats.chi_contingency(contingency_table)\n",
        "\n",
        "# Print the chi-square statistic and p-value\n",
        "print(chi_square_statistic, p_value)"
      ],
      "metadata": {
        "colab": {
          "base_uri": "https://localhost:8080/",
          "height": 245
        },
        "id": "SPWqtM7A35vE",
        "outputId": "333332b1-8665-4326-d269-5fc0a7fababe"
      },
      "execution_count": null,
      "outputs": [
        {
          "output_type": "error",
          "ename": "NameError",
          "evalue": "ignored",
          "traceback": [
            "\u001b[0;31m---------------------------------------------------------------------------\u001b[0m",
            "\u001b[0;31mNameError\u001b[0m                                 Traceback (most recent call last)",
            "\u001b[0;32m<ipython-input-67-6b9a254b0c39>\u001b[0m in \u001b[0;36m<cell line: 5>\u001b[0;34m()\u001b[0m\n\u001b[1;32m      3\u001b[0m \u001b[0;34m\u001b[0m\u001b[0m\n\u001b[1;32m      4\u001b[0m \u001b[0;31m# Calculate the chi-square statistic and p-value\u001b[0m\u001b[0;34m\u001b[0m\u001b[0;34m\u001b[0m\u001b[0m\n\u001b[0;32m----> 5\u001b[0;31m \u001b[0mchi_square_statistic\u001b[0m\u001b[0;34m,\u001b[0m \u001b[0mp_value\u001b[0m\u001b[0;34m,\u001b[0m \u001b[0mdf_value\u001b[0m\u001b[0;34m,\u001b[0m \u001b[0mexpected_values\u001b[0m \u001b[0;34m=\u001b[0m \u001b[0mstats\u001b[0m\u001b[0;34m.\u001b[0m\u001b[0mchi2_contingency\u001b[0m\u001b[0;34m(\u001b[0m\u001b[0mcontingency_table\u001b[0m\u001b[0;34m)\u001b[0m\u001b[0;34m\u001b[0m\u001b[0;34m\u001b[0m\u001b[0m\n\u001b[0m\u001b[1;32m      6\u001b[0m \u001b[0;34m\u001b[0m\u001b[0m\n\u001b[1;32m      7\u001b[0m \u001b[0;31m# Print the chi-square statistic and p-value\u001b[0m\u001b[0;34m\u001b[0m\u001b[0;34m\u001b[0m\u001b[0m\n",
            "\u001b[0;31mNameError\u001b[0m: name 'stats' is not defined"
          ]
        }
      ]
    },
    {
      "cell_type": "code",
      "source": [
        "# Create a new figure\n",
        "fig = plt.figure()\n",
        "\n",
        "# Plot the chi-square statistic on the x-axis and the p-value on the y-axis\n",
        "plt.plot(chi_square_statistic, p_value)\n",
        "\n",
        "# Add labels and titles to the graph\n",
        "plt.xlabel(\"Chi-Square Statistic\")\n",
        "plt.ylabel(\"P-Value\")\n",
        "plt.title(\"Chi-Square Test\")\n",
        "\n",
        "# Show the graph\n",
        "plt.show()\n",
        "plt.boxplot([dc['Region'],dc['Happiness Rank']], labels=['Region', 'Happiness rank'])\n",
        "plt.show()"
      ],
      "metadata": {
        "id": "4g9MYDoSnyst"
      },
      "execution_count": null,
      "outputs": []
    },
    {
      "cell_type": "markdown",
      "source": [
        "Covariance matrix"
      ],
      "metadata": {
        "id": "bfCzmC0fnzJW"
      }
    },
    {
      "cell_type": "code",
      "source": [
        "economy = dc['Economy (GDP per Capita)']\n",
        "family = dc['Family']\n",
        "\n",
        "covariance_matrix = np.cov(economy, family)\n",
        "print(covariance_matrix)"
      ],
      "metadata": {
        "id": "6yFZIqY7vh_6"
      },
      "execution_count": null,
      "outputs": []
    },
    {
      "cell_type": "markdown",
      "source": [
        "Heatmap of covariance matrix"
      ],
      "metadata": {
        "id": "1ZAmupFDxNfw"
      }
    },
    {
      "cell_type": "code",
      "source": [
        "plt.imshow(covariance_matrix, cmap=\"coolwarm\")\n",
        "plt.colorbar()\n",
        "plt.xlabel(\"economy\")\n",
        "plt.ylabel(\"family\")\n",
        "plt.title(\"Covariance Matrix\")\n",
        "plt.show()\n"
      ],
      "metadata": {
        "colab": {
          "base_uri": "https://localhost:8080/",
          "height": 472
        },
        "id": "wCOrUvq3xNGg",
        "outputId": "a6c4a3f4-3d8d-4ffa-ecf1-dc2488800813"
      },
      "execution_count": null,
      "outputs": [
        {
          "output_type": "display_data",
          "data": {
            "text/plain": [
              "<Figure size 640x480 with 2 Axes>"
            ],
            "image/png": "[encoded data removed]"
          },
          "metadata": {}
        }
      ]
    }
  ]
}